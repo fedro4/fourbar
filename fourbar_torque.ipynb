{
 "cells": [
  {
   "cell_type": "code",
   "execution_count": 44,
   "metadata": {},
   "outputs": [],
   "source": [
    "%matplotlib inline\n",
    "\n",
    "import numpy as np\n",
    "import pylab as pl\n",
    "import matplotlib.patches as patches\n",
    "import matplotlib as mpl"
   ]
  },
  {
   "cell_type": "code",
   "execution_count": 45,
   "metadata": {},
   "outputs": [],
   "source": [
    "class Joint:\n",
    "    def __init__(self, angle):\n",
    "        self.prevlink=None\n",
    "        self.angle=angle\n",
    "    def add(self, link):\n",
    "        link.prevjoint = self\n",
    "        self.nextlink = link\n",
    "    def getTrafo(self):\n",
    "        pt = self.prevlink.getTrafo() if self.prevlink else mpl.transforms.Affine2D.identity()\n",
    "        return mpl.transforms.Affine2D().rotate_deg(self.angle) + pt\n",
    "    \n",
    "class Link:\n",
    "    def __init__(self, length):\n",
    "        self.length = length\n",
    "        self.w = .2\n",
    "        self.prevjoint = None\n",
    "        self.nextjoint = None\n",
    "        self.com = None\n",
    "        self.forces = []\n",
    "        self.forcepositions = []\n",
    "        self.forcecolors = \"rgbky\"\n",
    "    def add(self, nextjoint):\n",
    "        self.nextjoint = nextjoint\n",
    "        nextjoint.prevlink = self\n",
    "    def getTrafo(self):\n",
    "        return mpl.transforms.Affine2D().translate(self.length, 0) + self.prevjoint.getTrafo();\n",
    "    def addCOM(self, x):\n",
    "        self.com = x\n",
    "    def draw(self, ax):\n",
    "        rect = patches.Rectangle((0,0),self.length,self.w,0,facecolor=\"none\")\n",
    "        ax.add_patch(rect)\n",
    "        rect.set_transform(self.prevjoint.getTrafo() + ax.transData)\n",
    "        if self.com:\n",
    "            comrect = patches.Rectangle((self.com,0),self.w,self.w,0,facecolor=\"red\")\n",
    "            comrect.set_transform(self.prevjoint.getTrafo() + ax.transData)\n",
    "            ax.add_patch(comrect)\n",
    "        for f, pos, i in zip(self.forces, self.forcepositions, range(len(self.forces))):\n",
    "            arrow = patches.Arrow(pos, 0, f[0], f[1], width=0.5, color=self.forcecolors[i])\n",
    "            arrow.set_transform(self.prevjoint.getTrafo() + ax.transData)\n",
    "            ax.add_patch(arrow)\n",
    "    def addForce(self, pos, f): # add force in world coordinates\n",
    "        self.forces.append(np.dot(self.prevjoint.getTrafo().inverted(), f))\n",
    "        self.forcepositions.append(pos)\n",
    "        #print self.forces[-1]\n",
    "        \n",
    "        \n",
    "        \n",
    "\n",
    "        \n",
    "        "
   ]
  },
  {
   "cell_type": "code",
   "execution_count": 46,
   "metadata": {},
   "outputs": [],
   "source": [
    "def intersect(base1, dir1, base2, dir2):\n",
    "    d = np.array((dir1, dir2)).T\n",
    "    t = np.dot(np.linalg.inv(d),base2-base1)\n",
    "    #print d\n",
    "    #print np.linalg.inv(d)\n",
    "    #print t\n",
    "    #base1 + t[0] * dir1\n",
    "    #print base2 - t[1] * dir2\n",
    "    return base1 + t[0] * dir1\n",
    "    "
   ]
  },
  {
   "cell_type": "code",
   "execution_count": 47,
   "metadata": {},
   "outputs": [],
   "source": [
    "\n",
    "    \n",
    "intersect(np.array([1,1]), np.array([1,0]), np.array([2,0]), np.array([0,1]))\n",
    "\n",
    "b1 = np.array([-2,-1])\n",
    "d1 = np.array([-1,0.7])\n",
    "b2 = np.array([4,0])\n",
    "d2 = np.array([-0.6,0.3])\n",
    "\n",
    "i = intersect(b1, d1, b2, d2);\n",
    "\n",
    "#pl.plot([b1[0], b1[0]+d1[0]], [b1[1], b1[1]+d1[1]])\n",
    "#pl.plot([b2[0], b2[0]+d2[0]], [b2[1], b2[1]+d2[1]])\n",
    "#pl.scatter(i[0], i[1])\n",
    "\n",
    "#pl.plot()"
   ]
  },
  {
   "cell_type": "code",
   "execution_count": 48,
   "metadata": {},
   "outputs": [],
   "source": [
    "def topbarforces(xg, x1, x2, fg, d2):\n",
    "    pg = np.array([xg,0])\n",
    "    p1 = np.array([x1, 0])\n",
    "    p2= np.array([x2,0])\n",
    "    i = intersect(pg, fg, p2, d2)\n",
    "    d1 = i - p1\n",
    "    i2 = intersect(pg, d1, pg+fg, d2)\n",
    "    f2 = i2-(pg+fg)\n",
    "    f1 = pg-i2\n",
    "    return f1, f2, i, i2\n"
   ]
  },
  {
   "cell_type": "code",
   "execution_count": 49,
   "metadata": {},
   "outputs": [
    {
     "name": "stdout",
     "output_type": "stream",
     "text": [
      "[-65.  70.]\n"
     ]
    },
    {
     "data": {
      "text/plain": [
       "(-200, 200, -200, 200)"
      ]
     },
     "execution_count": 49,
     "metadata": {},
     "output_type": "execute_result"
    },
    {
     "data": {
      "image/png": "[encoded data removed]",
      "text/plain": [
       "<matplotlib.figure.Figure at 0x7f9ff75d3f10>"
      ]
     },
     "metadata": {},
     "output_type": "display_data"
    }
   ],
   "source": [
    "\n",
    "\n",
    "\n",
    "xg = 3\n",
    "x1 = 9.5\n",
    "x2 = 10\n",
    "fg = np.array([0,-5])\n",
    "d2 = np.array([-1, 1])\n",
    "f1, f2, i, i2 = topbarforces(xg, x1, x2, fg, d2)\n",
    "    \n",
    "pl.figure(figsize=(10,10))\n",
    "pl.subplot(221)\n",
    "\n",
    "pl.arrow(xg, 0, fg[0], fg[1], width=0.05)\n",
    "pl.arrow(x2, 0, d2[0], d2[1], width=0.05)\n",
    "pl.scatter([xg, x1, x2], [0,0,0])\n",
    "pl.scatter(i[0], i[1], c=\"r\")\n",
    "print f1\n",
    "pl.arrow(x1, 0, f1[0], f1[1])\n",
    "\n",
    "pl.axis((-5, 15, -10, 10))\n",
    "\n",
    "pl.subplot(222)\n",
    "\n",
    "pl.axis((-5, 15, -10, 10))\n",
    "pl.arrow(xg, 0, fg[0], fg[1])\n",
    "pl.scatter(i2[0], i2[1])\n",
    "\n",
    "pl.subplot(224)\n",
    "pl.arrow(0, 0, fg[0], fg[1], color=\"r\", width=.1)\n",
    "pl.arrow(0, 0, f1[0], f1[1], color=\"g\", width=.1)\n",
    "pl.arrow(0, 0, f2[0], f2[1], color=\"b\", width=.1)\n",
    "pl.axis((-200,200,-200,200))"
   ]
  },
  {
   "cell_type": "code",
   "execution_count": 50,
   "metadata": {},
   "outputs": [
    {
     "data": {
      "text/plain": [
       "(1.231698504097973e-14, -107.99999999999997, 47.999999999999993, 48.0)"
      ]
     },
     "execution_count": 50,
     "metadata": {},
     "output_type": "execute_result"
    }
   ],
   "source": [
    "def v3(v):\n",
    "    vv = np.zeros((3,))\n",
    "    vv[:2] = v\n",
    "    return vv\n",
    "\n",
    "def torques(phi2, phi3, l2, l3, lt, xg, fg ):\n",
    "    xg = xg + l3\n",
    "    \n",
    "    A2 = Joint(angle=phi2)\n",
    "    A3 = Joint(angle=phi3)\n",
    "    L2 = Link(l2)\n",
    "    L3 = Link(l3)\n",
    "    A2.add(L2)\n",
    "    A3.add(L3)\n",
    "    PA3b = Joint(angle=phi2-phi3)\n",
    "    L3.add(PA3b)\n",
    "    Lb = Link(l2)\n",
    "    PA3b.add(Lb)\n",
    "    Pbt = Joint(angle=180-(phi2-phi3))\n",
    "    Lb.add(Pbt)\n",
    "    Lt=Link(lt)\n",
    "    Pbt.add(Lt)\n",
    "    x1=l3\n",
    "    x2=0\n",
    "    Lt.addCOM(xg)\n",
    "    # top bar foreces in top bar CS?\n",
    "    fg = v3(fg)\n",
    "    fgt = np.dot(Lt.getTrafo().inverted(), fg)\n",
    "    d2 = np.dot(Lb.getTrafo(), np.array([1,0,0]))\n",
    "    d2t= np.dot(Lt.getTrafo().inverted(), d2)\n",
    "    fat, fbt, _, __ = topbarforces(xg, x1, x2, fgt[:2], d2t[:2])\n",
    "    fa = np.dot(Lt.getTrafo(), v3(fat))\n",
    "    fb = np.dot(Lt.getTrafo(), v3(fbt))\n",
    "    # kraft die unten an L3 angreift\n",
    "    f3 = -fb\n",
    "    # kraft am hebel L2\n",
    "    f2 = -fa\n",
    "    p0 = np.array([0,0]) # where the axes are\n",
    "    pt2 = np.dot(L2.getTrafo(), np.array([l2,0,0]))[:2] # tip of L2\n",
    "    pt3 = np.dot(L3.getTrafo(), np.array([l3,0,0]))[:2] # tip of L3\n",
    "    TA2 = np.dot(np.array([0,0,1]), np.cross(pt2-p0, f2))\n",
    "    TA3 = np.dot(np.array([0,0,1]), np.cross(pt3-p0, f3))\n",
    "    pg = np.dot(Lt.prevjoint.getTrafo(), np.array([xg, 0, 1])) # center of gravity ni world coordinates\n",
    "    TA2n = np.dot(np.array([0,0,1]), np.cross(pg-v3(p0), fg))\n",
    "    TA3n = np.dot(np.array([0,0,1]), np.cross(pg-v3(pt2), fg))\n",
    "    return TA2, TA3, TA2n, TA3n\n",
    "\n",
    "torques(90, 0, 15, 5, 12, 8, [0,-6])"
   ]
  },
  {
   "cell_type": "code",
   "execution_count": 68,
   "metadata": {},
   "outputs": [
    {
     "name": "stdout",
     "output_type": "stream",
     "text": [
      "Torques: \n",
      "TA2 = 25\n",
      "TA3 = 9.39693\n",
      "Naive torques:\n",
      "TA2n = 34.3969\n",
      "TA3n = 9.39693\n",
      "(24.999999999999979, 28.190778623577252, 53.190778623577245, 28.190778623577259)\n"
     ]
    },
    {
     "data": {
      "image/png": "[encoded data removed]",
      "text/plain": [
       "<matplotlib.figure.Figure at 0x7f9ff785b6d0>"
      ]
     },
     "metadata": {},
     "output_type": "display_data"
    }
   ],
   "source": [
    "\n",
    "\n",
    "   \n",
    "\n",
    "phi2 = 120\n",
    "phi3 = 20\n",
    "\n",
    "A2 = Joint(angle=phi2)\n",
    "A3 = Joint(angle=phi3)\n",
    "\n",
    "l2=10\n",
    "l3=4\n",
    "lt=10\n",
    "\n",
    "L2 = Link(l2)\n",
    "L3 = Link(l3)\n",
    "A2.add(L2)\n",
    "A3.add(L3)\n",
    "PA3b = Joint(angle=phi2-phi3)\n",
    "L3.add(PA3b)\n",
    "Lb = Link(l2)\n",
    "PA3b.add(Lb)\n",
    "Pbt = Joint(angle=180-(phi2-phi3))\n",
    "Lb.add(Pbt)\n",
    "Lt=Link(lt)\n",
    "Pbt.add(Lt)\n",
    "\n",
    "xg=l3+2\n",
    "x1=l3\n",
    "x2=0\n",
    "\n",
    "Lt.addCOM(xg)\n",
    "\n",
    "# top bar foreces in top bar CS?\n",
    "fg =  np.array([0, -5, 0])\n",
    "fgt = np.dot(Lt.getTrafo().inverted(), fg)\n",
    "d2 = np.dot(Lb.getTrafo(), np.array([1,0,0]))\n",
    "d2t= np.dot(Lt.getTrafo().inverted(), d2)\n",
    "fat, fbt, _, __ = topbarforces(xg, x1, x2, fgt[:2], d2t[:2])\n",
    "\n",
    "fa = np.dot(Lt.getTrafo(), v3(fat))\n",
    "fb = np.dot(Lt.getTrafo(), v3(fbt))\n",
    "\n",
    "Lt.addForce(xg, fg)\n",
    "Lt.addForce(x1, fa)\n",
    "Lt.addForce(x2, fb)\n",
    "\n",
    "# kraft die unten an L3 angreift\n",
    "f3 = -fb\n",
    "f2 = -fa\n",
    "\n",
    "L3.addForce(l3, np.array([0,0,0]))\n",
    "L3.addForce(l3, np.array([0,0,0])) # just a hackish way to advance the colors\n",
    "L3.addForce(l3, f3)\n",
    "L2.addForce(l2, np.array([0,0,0]))\n",
    "L2.addForce(l2, f2)\n",
    "\n",
    "fig = pl.figure(figsize=(10,10))\n",
    "ax = fig.add_subplot(111)\n",
    "\n",
    "# parallelograms visualizing torque\n",
    "p0 = np.array([0,0]) # where the axes are\n",
    "pt2 = np.dot(L2.getTrafo(), np.array([l2,0,0]))[:2] # tip of L2\n",
    "pt3 = np.dot(L3.getTrafo(), np.array([l3,0,0]))[:2] # tip of L3\n",
    "ax.add_patch(patches.Polygon(xy=[p0, pt2, pt2+f2[:2], p0+f2[:2]], fill=True, edgecolor='none', facecolor=(0,1,0,0.25)))\n",
    "ax.add_patch(patches.Polygon(xy=[p0, pt3, pt3+f3[:2], p0+f3[:2]], fill=True, edgecolor='none', facecolor=(0,0,1,0.25)))\n",
    "\n",
    "TA2 = np.dot(np.array([0,0,1]), np.cross(pt2-p0, f2))\n",
    "TA3 = np.dot(np.array([0,0,1]), np.cross(pt3-p0, f3))\n",
    "\n",
    "pg = np.dot(Lt.prevjoint.getTrafo(), np.array([xg, 0, 1])) # center of gravity ni world coordinates\n",
    "\n",
    "ax.add_patch(patches.Arrow(p0[0], p0[1], pg[0]-p0[0], pg[1]-p0[1], width=0.25, color=\"k\", linestyle='dotted'))\n",
    "ax.add_patch(patches.Arrow(pt2[0], pt2[1], pg[0]-pt2[0], pg[1]-pt2[1], width=0.25, color=\"k\", linestyle='dotted'))\n",
    "\n",
    "TA2n = np.dot(np.array([0,0,1]), np.cross(pg-v3(p0), fg))\n",
    "TA3n = np.dot(np.array([0,0,1]), np.cross(pg-v3(pt2), fg))\n",
    "\n",
    "\n",
    "print(\"Torques: \")\n",
    "print(\"TA2 = %g\" % TA2)\n",
    "print(\"TA3 = %g\" % TA3)\n",
    "print(\"Naive torques:\")\n",
    "print(\"TA2n = %g\" % TA2n)\n",
    "print(\"TA3n = %g\" % TA3n)\n",
    "\n",
    "print torques(phi2, phi3, l2, l3, lt, xg, fg[:2])\n",
    "\n",
    "L2.draw(ax)\n",
    "L3.draw(ax)\n",
    "Lb.draw(ax)\n",
    "Lt.draw(ax)\n",
    "\n",
    "\n",
    "ax.set_xlim((-15, 15))\n",
    "ax.set_ylim((-5, 25))\n",
    "pl.show()"
   ]
  },
  {
   "cell_type": "code",
   "execution_count": 52,
   "metadata": {},
   "outputs": [
    {
     "data": {
      "text/plain": [
       "[<matplotlib.lines.Line2D at 0x7f9ff6ccdf10>]"
      ]
     },
     "execution_count": 52,
     "metadata": {},
     "output_type": "execute_result"
    },
    {
     "data": {
      "image/png": "[encoded data removed]",
      "text/plain": [
       "<matplotlib.figure.Figure at 0x7f9ff7ab2e50>"
      ]
     },
     "metadata": {},
     "output_type": "display_data"
    }
   ],
   "source": [
    "phi2 = 130\n",
    "phi3 = -30\n",
    "l2=10\n",
    "lt=10\n",
    "xg=5\n",
    "fg=np.array([0,-5])\n",
    "\n",
    "l3s=np.linspace(.1, 10,100)\n",
    "ts = np.array([torques(phi2, phi3, l2, l3, lt, xg, fg) for l3 in l3s])\n",
    "\n",
    "pl.plot(l3s, ts[:,0], \"g\")\n",
    "pl.plot(l3s, ts[:,1], \"b\")\n",
    "pl.plot(l3s, ts[:,2], \"g:\")\n",
    "pl.plot(l3s, ts[:,3], \"b:\")\n"
   ]
  },
  {
   "cell_type": "code",
   "execution_count": 66,
   "metadata": {},
   "outputs": [
    {
     "data": {
      "text/plain": [
       "[<matplotlib.lines.Line2D at 0x7f9ff78aa150>]"
      ]
     },
     "execution_count": 66,
     "metadata": {},
     "output_type": "execute_result"
    },
    {
     "data": {
      "image/png": "[encoded data removed]",
      "text/plain": [
       "<matplotlib.figure.Figure at 0x7f9ff6d36b10>"
      ]
     },
     "metadata": {},
     "output_type": "display_data"
    }
   ],
   "source": [
    "betas = np.linspace(10,170,100)\n",
    "phi2 = 120\n",
    "l2=10\n",
    "l3=4\n",
    "lt=10\n",
    "xg=2\n",
    "fg=np.array([0,-5])\n",
    "ts = np.array([torques(phi2, phi2-beta, l2, l3, lt, xg, fg) for beta in betas])\n",
    "\n",
    "pl.plot(betas, ts[:,0], \"g\")\n",
    "pl.plot(betas, ts[:,1], \"b\")\n",
    "pl.plot(betas, ts[:,2], \"g:\")\n",
    "pl.plot(betas, ts[:,3], \"r:\")"
   ]
  },
  {
   "cell_type": "code",
   "execution_count": 56,
   "metadata": {},
   "outputs": [
    {
     "data": {
      "text/plain": [
       "[<matplotlib.lines.Line2D at 0x7f9ff69b2310>]"
      ]
     },
     "execution_count": 56,
     "metadata": {},
     "output_type": "execute_result"
    },
    {
     "data": {
      "image/png": "[encoded data removed]",
      "text/plain": [
       "<matplotlib.figure.Figure at 0x7f9ff6a09e50>"
      ]
     },
     "metadata": {},
     "output_type": "display_data"
    }
   ],
   "source": [
    "beta = 90\n",
    "phi2s = np.linspace(10, 170, 100)\n",
    "l2=10\n",
    "l3=3\n",
    "lt=10\n",
    "xg=5\n",
    "fg=np.array([0,-5])\n",
    "ts = np.array([torques(phi2, phi2-beta, l2, l3, lt, xg, fg) for phi2 in phi2s])\n",
    "\n",
    "pl.plot(betas, ts[:,0], \"g\")\n",
    "pl.plot(betas, ts[:,1], \"b\")\n",
    "pl.plot(betas, ts[:,2], \"g:\")\n",
    "pl.plot(betas, ts[:,3], \"r:\")"
   ]
  },
  {
   "cell_type": "code",
   "execution_count": null,
   "metadata": {},
   "outputs": [],
   "source": []
  }
 ],
 "metadata": {
  "kernelspec": {
   "display_name": "Python 2",
   "language": "python",
   "name": "python2"
  },
  "language_info": {
   "codemirror_mode": {
    "name": "ipython",
    "version": 2
   },
   "file_extension": ".py",
   "mimetype": "text/x-python",
   "name": "python",
   "nbconvert_exporter": "python",
   "pygments_lexer": "ipython2",
   "version": "2.7.13"
  }
 },
 "nbformat": 4,
 "nbformat_minor": 2
}
